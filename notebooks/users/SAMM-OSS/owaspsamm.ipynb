{
 "cells": [
  {
   "cell_type": "markdown",
   "metadata": {},
   "source": [
    "# OWASP SAMM Open Security Summit Outcomes\n",
    "<img src=\"https://raw.githubusercontent.com/OWASP/samm/master/Supporting%20Resources/v2.0/LOGO-SAMM.png\" width=200/>"
   ]
  },
  {
   "cell_type": "markdown",
   "metadata": {},
   "source": [
    "## Monday\n",
    "\n",
    "- Collected feedback from actual users in the sessions\n",
    "- Defined options for questions in the Measurement model  \n",
    "  <img src=\"https://files.slack.com/files-pri/TAULHPATC-FJWEV3N9Z/image.png\" />\n",
    "- Agreed to try out the options in smaller groups"
   ]
  },
  {
   "cell_type": "markdown",
   "metadata": {},
   "source": [
    "## Tuesday\n",
    "\n",
    "\n",
    "### AM\n",
    "- Groups created questions  \n",
    "  https://1drv.ms/w/s!Ag3u_YTLhehYhbAMdHsC9cf73M58LA  \n",
    "  https://docs.google.com/spreadsheets/d/1Bcx7cUyFPGm796opIBh4YuPtlNPISBBwhmCq38uj8P0/edit?usp=sharing\n",
    "- Discussed questions format\n",
    "- Discussed scoring\n",
    "\n",
    "### PM1\n",
    "\n",
    "Questions\n",
    "- 0-3\n",
    "- 0 is no\n",
    "- 1-3: to answer these you need to meet the criteria\n",
    "- Define criteria (called guidance in previous models)\n",
    "- Limit the number of questions to determine maturity\n",
    "- Criteria provides a standard of quality to achieve maturity level\n",
    "- Range of answers provides measure of coverage (completeness)\n",
    "\n",
    "After some heavy debate, we agreed on the measuring model.\n",
    "\n",
    "Writing guidelines\n",
    "- https://docs.google.com/presentation/d/1GK1fgbeq9fwEdVscjyr-kwPRE5jTf4VRR0-eTrDdYsc/edit?usp=sharing\n",
    "\n",
    "### PM2\n",
    "\n",
    "Questions\n",
    "- Education & Guidance almost complete in GitHub in a .yaml file\n",
    "- Secure Deployment in GitHub in a .yaml file\n",
    "- Threat Assessment in a \"YAML\" file\n",
    "  https://docs.google.com/document/d/1E-eUqwWnGRyyP91PydIGuhsmy5oaoVR05e5SDoWKh9o/edit?usp=sharing\n",
    "\n",
    "### EV1\n",
    "\n",
    "GitHub issues\n",
    "- 91\n",
    "- 111\n",
    "- 117\n",
    "- 118\n",
    "\n",
    "Discussed process, visualization, tooling\n"
   ]
  },
  {
   "cell_type": "markdown",
   "metadata": {},
   "source": [
    "## Wednesday\n",
    "\n",
    "\n",
    "### AM\n",
    "\n",
    "**Defined writing guidelines for questions and quality criteria**  \n",
    "\n",
    "<img src=\"https://files.slack.com/files-pri/TAULHPATC-FKA0NMKQ8/image.png\" />  \n",
    "\n",
    "**Worked as a group to define one question**  \n",
    "\n",
    "<img src=\"https://files.slack.com/files-pri/TAULHPATC-FK9C2GZSQ/image.png\" />\n",
    "\n",
    "### PM\n",
    "\n",
    "#### PM 1 & 2\n",
    "\n",
    "- Questions for Design,  Security Architecture practice\n",
    "- Started mapping of ASVS to SAMM\n",
    "\n",
    "#### DevSecOps Session\n",
    "\n",
    "- Discussed the mapping from DSOMM to SAMM\n",
    "\n",
    "    "
   ]
  },
  {
   "cell_type": "code",
   "execution_count": null,
   "metadata": {},
   "outputs": [],
   "source": []
  }
 ],
 "metadata": {
  "kernelspec": {
   "display_name": "Python 3",
   "language": "python",
   "name": "python3"
  },
  "language_info": {
   "codemirror_mode": {
    "name": "ipython",
    "version": 3
   },
   "file_extension": ".py",
   "mimetype": "text/x-python",
   "name": "python",
   "nbconvert_exporter": "python",
   "pygments_lexer": "ipython3",
   "version": "3.7.3"
  }
 },
 "nbformat": 4,
 "nbformat_minor": 2
}
