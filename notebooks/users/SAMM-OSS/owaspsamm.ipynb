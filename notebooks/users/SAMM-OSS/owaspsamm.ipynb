{
 "cells": [
  {
   "cell_type": "markdown",
   "metadata": {},
   "source": [
    "# OWASP SAMM Open Security Summit Outcomes\n",
    "<img src=\"https://raw.githubusercontent.com/OASP/samm/master/Supporting%20Resources/v2.0/LOGO-SAMM.png\" width=200/>"
   ]
  },
  {
   "cell_type": "markdown",
   "metadata": {},
   "source": [
    "## Monday\n",
    "\n",
    "- Collected feedback from actual users in the sessions\n",
    "- Defined options for questions in the Measurement model  \n",
    "  <img src=\"https://files.slack.com/files-pri/TAULHPATC-FJWEV3N9Z/image.png\" />\n",
    "- Agreed to try out the options in smaller groups"
   ]
  },
  {
   "cell_type": "markdown",
   "metadata": {},
   "source": [
    "## Tuesday\n",
    "\n",
    "\n",
    "### AM\n",
    "- Groups created questions  \n",
    "  https://1drv.ms/w/s!Ag3u_YTLhehYhbAMdHsC9cf73M58LA  \n",
    "  https://docs.google.com/spreadsheets/d/1Bcx7cUyFPGm796opIBh4YuPtlNPISBBwhmCq38uj8P0/edit?usp=sharing\n",
    "- Discussed questions format\n",
    "- Discussed scoring\n",
    "\n",
    "### PM1\n",
    "\n",
    "Questions\n",
    "\n",
    "Writing guidelines\n",
    "\n",
    "\n",
    "### PM2\n",
    "\n",
    "Questions\n",
    "- Deployment added to yaml file in our website\n",
    "\n",
    "### EV1"
   ]
  },
  {
   "cell_type": "code",
   "execution_count": null,
   "metadata": {},
   "outputs": [],
   "source": []
  }
 ],
 "metadata": {
  "kernelspec": {
   "display_name": "Python 3",
   "language": "python",
   "name": "python3"
  },
  "language_info": {
   "codemirror_mode": {
    "name": "ipython",
    "version": 3
   },
   "file_extension": ".py",
   "mimetype": "text/x-python",
   "name": "python",
   "nbconvert_exporter": "python",
   "pygments_lexer": "ipython3",
   "version": "3.7.3"
  }
 },
 "nbformat": 4,
 "nbformat_minor": 2
}
