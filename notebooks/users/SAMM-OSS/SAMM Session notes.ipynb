{
 "cells": [
  {
   "cell_type": "markdown",
   "metadata": {},
   "source": [
    "# OWASP SAMM Session notes\n",
    "\n",
    "<img src=\"https://raw.githubusercontent.com/OWASP/samm/master/Supporting%20Resources/v2.0/LOGO-SAMM.png\" width=200/>"
   ]
  },
  {
   "cell_type": "markdown",
   "metadata": {},
   "source": [
    "## SAMM user session - Introduction\n",
    "\n",
    "4 users in the room, 2 remote participants\n",
    "\n",
    "### Expectations for the week\n",
    "- Assessment checklist\n",
    "- Assessment toolkit\n",
    "- Roadmap\n",
    "- BSIMM/SAMM\n",
    "- Improve feedback loop\n",
    "- Measurement\n",
    "- Guidance documents for different contexts (Agile, DevOps, Waterfall, even for business vs development)\n",
    "\n",
    "### Discussion\n",
    "- Map to other tools, maybe OWASP tools, where you can use other tools for a certain practice, concrete vs. technology agnostic\n",
    "- Map activities to OWASP projects\n",
    "- SAMM as an umbrella project for other OWASP projects\n",
    "- Have projects categorize themselves inside SAMM\n",
    "- Have sample use cases\n"
   ]
  },
  {
   "cell_type": "markdown",
   "metadata": {},
   "source": [
    "# SAMM - Measurement model\n",
    "\n",
    "## Bart's presentation\n",
    "\n",
    "Where are we?\n",
    "- coverage\n",
    "- quality\n",
    "\n",
    "Goals\n",
    "\n",
    "There isn't a model that fits all\n",
    "Benchmarking. Use categories for sectors?\n",
    "\n",
    "Address metrics. Maybe map the questions to metrics."
   ]
  },
  {
   "cell_type": "markdown",
   "metadata": {},
   "source": [
    "# SAMM - Measurement model (Mon EV)\n",
    "\n",
    "## Questions\n",
    "\n",
    "#### Goals\n",
    "- Well written\n",
    "- Enable self-assessment\n",
    "\n",
    "### Options\n",
    "\n",
    "### Create question + guidance\n",
    "Get together in groups to work on question"
   ]
  },
  {
   "cell_type": "code",
   "execution_count": null,
   "metadata": {},
   "outputs": [],
   "source": []
  }
 ],
 "metadata": {
  "kernelspec": {
   "display_name": "Python 3",
   "language": "python",
   "name": "python3"
  },
  "language_info": {
   "codemirror_mode": {
    "name": "ipython",
    "version": 3
   },
   "file_extension": ".py",
   "mimetype": "text/x-python",
   "name": "python",
   "nbconvert_exporter": "python",
   "pygments_lexer": "ipython3",
   "version": "3.7.3"
  }
 },
 "nbformat": 4,
 "nbformat_minor": 2
}
