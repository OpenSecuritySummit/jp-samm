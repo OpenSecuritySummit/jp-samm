{
 "cells": [
  {
   "cell_type": "markdown",
   "metadata": {},
   "source": [
    "# OWASP SAMM Session notes\n",
    "\n",
    "<img src=\"https://raw.githubusercontent.com/OWASP/samm/master/Supporting%20Resources/v2.0/LOGO-SAMM.png\" width=200/>"
   ]
  },
  {
   "cell_type": "markdown",
   "metadata": {},
   "source": [
    "## SAMM user session - Introduction\n",
    "\n",
    "4 users in the room, 2 remote participants\n",
    "\n",
    "### Expectations for the week\n",
    "- Assessment checklist\n",
    "- Assessment toolkit\n",
    "- Roadmap\n",
    "- BSIMM/SAMM\n",
    "- Improve feedback loop\n",
    "- Measurement\n",
    "- Guidance documents for different contexts (Agile, DevOps, Waterfall, even for business vs development)\n",
    "\n",
    "### Discussion\n",
    "- Map to other tools, maybe OWASP tools, where you can use other tools for a certain practice, concrete vs. technology agnostic\n",
    "- Map activities to OWASP projects\n",
    "- SAMM as an umbrella project for other OWASP projects\n",
    "- Have projects categorize themselves inside SAMM\n",
    "- Have sample use cases\n"
   ]
  },
  {
   "cell_type": "markdown",
   "metadata": {},
   "source": [
    "# SAMM - Measurement model\n",
    "\n",
    "## Bart's presentation\n",
    "\n",
    "Where are we?\n",
    "- coverage\n",
    "- quality\n",
    "\n",
    "Goals\n",
    "\n",
    "There isn't a model that fits all\n",
    "Benchmarking. Use categories for sectors?\n",
    "\n",
    "Address metrics. Maybe map the questions to metrics."
   ]
  },
  {
   "cell_type": "markdown",
   "metadata": {},
   "source": [
    "# SAMM - Measurement model (Mon EV)\n",
    "\n",
    "## Questions\n",
    "\n",
    "#### Goals\n",
    "- Well written\n",
    "- Enable self-assessment\n",
    "\n",
    "### Options\n",
    "\n",
    "### Create question + guidance\n",
    "Get together in groups to work on question"
   ]
  },
  {
   "cell_type": "markdown",
   "metadata": {},
   "source": [
    "## DevOps (Wed PM)\n",
    "\n",
    "### Mapping to SAMM\n",
    "\n",
    "inventory of applications appears nowhere in the model. \n",
    "maybe it should be in the quality criteria for some question. secure deployment or environment management.\n",
    "\n",
    "back up before deployment\n",
    "\n",
    "secure deployment (guidelines?)  \n",
    "risk: while a deployment is performed, the application cannot be reached.  \n",
    "opportunity: deployment without downtime is performed\n",
    "\n",
    "risk: by using environment dependent configuration, some parameters will not be tested correctly\n",
    "opportunity: usage of environment independent configuration parameter, called feature toggles, helps enhance test coverage\n",
    "\n",
    "NEXT STEP: Create a spreadsheet to map activities from both models and see if there are holes in it\n",
    "\n"
   ]
  },
  {
   "cell_type": "markdown",
   "metadata": {},
   "source": [
    "## Evening session\n",
    "\n",
    "\n",
    "### GitHub issues\n",
    "\n",
    "#123 Restructure Secure Deployment Stream A\n",
    "\n",
    "secure build - points for integrating security testing tools into the build pipeline\n",
    "secure deploy -  points for \n",
    "security testing - are you doing it well even as a stand-alone practice? SAST or DAST well\n",
    "\n",
    "build is where you decide how you're going to record the integrity of what you're building\n",
    "deploy is where you verify\n",
    "\n",
    "#124 Revise integrity checks in secure build and deployment\n",
    "\n",
    "From GitHub  \n",
    "Build\t\t\t\t            Deployment\n",
    "1. hash or code sign |\t        -\n",
    "2. code sign for ext only |    Verify integrity\n",
    "3. code sign ext and int |\t    Verify signature\n",
    "\n",
    "Chris\n",
    "level 1 - store your artifacts somewhere safe where it can't be modified\n",
    "\n",
    "Internal vs. external discussion\n",
    "\n",
    "Bart doesn't agree because it implies we should check for external first and it might not apply to every company.  \n",
    "Seba says including internal and external it messes up with the scope. It could be more interesting to talk about you \"trust levels\", \"trust zone\", or \"span of control\". It makes more sense.\n",
    "\n",
    "\n",
    "Bart's suggestion\n",
    "1. evidence of integrity, like a hash\n",
    "2. integrity is not tamperable, protected evidence, not easy to change, like a signature\n",
    "3. deterministic build (can everyone do it?) create a strong link between the source code and the binary. it keeps your integrity over the build process.\n",
    "\n",
    "Change build to:  \n",
    "1. Hash\n",
    "2. Code sign - proof is hard-linked to artifact - and auth'd\n",
    "3. Deterministic - build process itself has integrity (reproducible build)\n",
    "\n",
    "Keep deployment as it is, not requiring integrity verification.\n",
    "2. Verify integrity\n",
    "3. Verify signature\n",
    "\n",
    "### Dependencies between business functions and streams\n"
   ]
  },
  {
   "cell_type": "code",
   "execution_count": null,
   "metadata": {},
   "outputs": [],
   "source": []
  }
 ],
 "metadata": {
  "kernelspec": {
   "display_name": "Python 3",
   "language": "python",
   "name": "python3"
  },
  "language_info": {
   "codemirror_mode": {
    "name": "ipython",
    "version": 3
   },
   "file_extension": ".py",
   "mimetype": "text/x-python",
   "name": "python",
   "nbconvert_exporter": "python",
   "pygments_lexer": "ipython3",
   "version": "3.7.3"
  }
 },
 "nbformat": 4,
 "nbformat_minor": 2
}
