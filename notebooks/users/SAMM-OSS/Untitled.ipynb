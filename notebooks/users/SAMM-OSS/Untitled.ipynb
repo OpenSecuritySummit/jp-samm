{
 "cells": [
  {
   "cell_type": "markdown",
   "metadata": {},
   "source": [
    "## SAMM user session - Introduction\n",
    "\n",
    "4 users in the room, 2 remote participants\n",
    "\n",
    "### Expectations for the week\n",
    "- Assessment checklist\n",
    "- Assessment toolkit\n",
    "- Roadmap\n",
    "- BSIMM/SAMM\n",
    "- Improve feedback loop\n",
    "- Measurement\n",
    "- Guidance documents for different contexts (Agile, DevOps, Waterfall, even for business vs development)\n",
    "\n",
    "### Discussion\n",
    "- Map to other tools, maybe OWASP tools, where you can use other tools for a certain practice, concrete vs. technology agnostic\n",
    "- Map activities to OWASP projects\n",
    "- SAMM as an umbrella project for other OWASP projects\n",
    "- Have projects categorize themselves inside SAMM\n",
    "- Have sample use cases\n"
   ]
  }
 ],
 "metadata": {
  "kernelspec": {
   "display_name": "Python 3",
   "language": "python",
   "name": "python3"
  },
  "language_info": {
   "codemirror_mode": {
    "name": "ipython",
    "version": 3
   },
   "file_extension": ".py",
   "mimetype": "text/x-python",
   "name": "python",
   "nbconvert_exporter": "python",
   "pygments_lexer": "ipython3",
   "version": "3.7.3"
  }
 },
 "nbformat": 4,
 "nbformat_minor": 2
}
