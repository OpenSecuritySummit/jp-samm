{
 "cells": [
  {
   "cell_type": "markdown",
   "metadata": {},
   "source": [
    "# Hello!\n",
    "\n",
    "![](/files/images/LOGO%20SAMM.png)\n"
   ]
  },
  {
   "cell_type": "code",
   "execution_count": 4,
   "metadata": {},
   "outputs": [
    {
     "data": {
      "text/html": [
       "<img src=\"https://github.com/OpenSecuritySummit/jp-samm/blob/master/notebooks/images/LOGO%20SAMM.png?raw=true\" \n",
       "width=\"500px\"/>\n"
      ],
      "text/plain": [
       "<IPython.core.display.HTML object>"
      ]
     },
     "metadata": {},
     "output_type": "display_data"
    }
   ],
   "source": [
    "%%HTML\n",
    "<img src=\"https://github.com/OpenSecuritySummit/jp-samm/blob/master/notebooks/images/LOGO%20SAMM.png?raw=true\" \n",
    "width=\"500px\"/>"
   ]
  },
  {
   "cell_type": "code",
   "execution_count": 6,
   "metadata": {},
   "outputs": [
    {
     "data": {
      "text/html": [
       "<iframe src=\"https://docs.google.com/presentation/d/1GK1fgbeq9fwEdVscjyr-kwPRE5jTf4VRR0-eTrDdYsc/edit?usp=sharing\"></iframe>\n"
      ],
      "text/plain": [
       "<IPython.core.display.HTML object>"
      ]
     },
     "metadata": {},
     "output_type": "display_data"
    }
   ],
   "source": [
    "%%HTML\n",
    "<iframe src=\"https://docs.google.com/presentation/d/1GK1fgbeq9fwEdVscjyr-kwPRE5jTf4VRR0-eTrDdYsc/edit?usp=sharing\"></iframe>"
   ]
  },
  {
   "cell_type": "markdown",
   "metadata": {},
   "source": [
    "## SAMM user session - Introduction\n",
    "\n",
    "4 users in the room, 2 remote participants\n",
    "\n",
    "### Expectations for the week\n",
    "- Assessment checklist\n",
    "- Assessment toolkit\n",
    "- Roadmap\n",
    "- BSIMM/SAMM\n",
    "- Improve feedback loop\n",
    "- Measurement\n",
    "- Guidance documents for different contexts (Agile, DevOps, Waterfall, even for business vs development)\n",
    "\n",
    "### Discussion\n",
    "- Map to other tools, maybe OWASP tools, where you can use other tools for a certain practice, concrete vs. technology agnostic\n",
    "- Map activities to OWASP projects\n",
    "- SAMM as an umbrella project for other OWASP projects\n",
    "- Have projects categorize themselves inside SAMM\n",
    "- Have sample use cases\n"
   ]
  },
  {
   "cell_type": "markdown",
   "metadata": {},
   "source": [
    "# SAMM user session - Round-table\n",
    "\n"
   ]
  },
  {
   "cell_type": "code",
   "execution_count": null,
   "metadata": {},
   "outputs": [],
   "source": []
  }
 ],
 "metadata": {
  "kernelspec": {
   "display_name": "Python 3",
   "language": "python",
   "name": "python3"
  },
  "language_info": {
   "codemirror_mode": {
    "name": "ipython",
    "version": 3
   },
   "file_extension": ".py",
   "mimetype": "text/x-python",
   "name": "python",
   "nbconvert_exporter": "python",
   "pygments_lexer": "ipython3",
   "version": "3.7.3"
  }
 },
 "nbformat": 4,
 "nbformat_minor": 2
}
