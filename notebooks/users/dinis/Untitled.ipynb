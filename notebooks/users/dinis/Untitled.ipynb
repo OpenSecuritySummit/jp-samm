{
 "cells": [
  {
   "cell_type": "markdown",
   "metadata": {},
   "source": [
    "# !mkdir /root/.ssh\n",
    "# !rm /root/.ssh/id_rsa\n",
    "# !rm /root/.ssh/id_rsa.pub\n",
    "# !ssh-keygen -f /root/.ssh/id_rsa -t rsa -N ''\n",
    "\n",
    "# !echo \"github.com ssh-rsa AAAAB3NzaC1yc2EAAAABIwAAAQEAq2A7hRGmdnm9tUDbO9IDSwBK6TbQa+PXYPCPy6rbTrTtw7PHkccKrpp0yVhp5HdEIcKr6pLlVDBfOLX9QUsyCOV0wzfjIJNlGEYsdlLJizHhbn2mUjvSAHQqZETYP81eFzLQNnPHt4EVVUh7VfDESU84KezmD5QlWpXLmvU31/yMf+Se8xhHTvKSCZIFImWwoG6mbUoWf9nzpIoaSjB+weqqUUmpaaasXVal72J+UX2B+2RPW3RcT0eOzQgqlJL3RKrTJvdsjE3JEAvGq3lGHSZXy28G3skua2SmVi/w4yCE6gbODqnTWlg7+wC604ydGXA8VJiS5ap43JXiUFFAaQ==\" >> /root/.ssh/known_hosts\n",
    "\n",
    "# import os\n",
    "# import json\n",
    "# from osbot_aws.apis.Secrets import Secrets\n",
    "# from pbx_gs_python_utils.utils.Files import Files\n",
    "\n",
    "# ssh_folder  = '/root/.ssh'\n",
    "# repo_name   = os.environ['repo_name']\n",
    "# secret_key  = \"git__{0}\".format(repo_name) \n",
    "# repo_path   = \"git@github.com:pbx-gs/{0}.git\".format(repo_name)\n",
    "# public_key  = Files.contents(ssh_folder + '/id_rsa.pub'   )\n",
    "# private_key = Files.contents(ssh_folder + '/id_rsa'   )\n",
    "# data        = { \"repo_name\" : repo_name, \n",
    "#                 \"repo_url\"\t: \"https://github.com/pbx-gs/{0}.git\".format(repo_name),\n",
    "#                 \"public_key\": public_key , \n",
    "#                \"private_key\": private_key}\n",
    "# Secrets(secret_key).update(json.dumps(data))\n",
    "\n",
    "# print(public_key)"
   ]
  }
 ],
 "metadata": {
  "kernelspec": {
   "display_name": "Python 3",
   "language": "python",
   "name": "python3"
  },
  "language_info": {
   "codemirror_mode": {
    "name": "ipython",
    "version": 3
   },
   "file_extension": ".py",
   "mimetype": "text/x-python",
   "name": "python",
   "nbconvert_exporter": "python",
   "pygments_lexer": "ipython3",
   "version": "3.7.3"
  }
 },
 "nbformat": 4,
 "nbformat_minor": 2
}
